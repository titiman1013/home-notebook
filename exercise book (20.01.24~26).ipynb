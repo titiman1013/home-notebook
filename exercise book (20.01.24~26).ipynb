{
 "cells": [
  {
   "cell_type": "code",
   "execution_count": 1,
   "metadata": {},
   "outputs": [],
   "source": [
    "development = {\n",
    "    'category': ['web', 'mobile', 'algorithms', 'deep learning'],\n",
    "    'language': {\n",
    "        'python': {\n",
    "            'python standard library': ['os', 'random', 'webbrowser'],\n",
    "            'frameworks': {\n",
    "                'flask': 'micro',\n",
    "                'django': 'full-functioning'\n",
    "            },\n",
    "            'data_science': ['numpy', 'pandas', 'scipy', 'sklearn'],\n",
    "            'scraping': ['requests', 'bs4'],\n",
    "        },\n",
    "        'javascript': {\n",
    "            'frameworks': ['vue']\n",
    "        }\n",
    "    },\n",
    "    'git': {\n",
    "       'definition': 'DVCS',\n",
    "       'services': ['github', 'gitlab', 'bitbucket'],\n",
    "       'book': 'https://git-scm.com/book/ko/v2'\n",
    "    }\n",
    "}\n",
    "\n",
    "idols = {\n",
    "    'group': {\n",
    "        'bts': {\n",
    "            'leader': 'RM',\n",
    "            'members': ['진', '슈가', '제이홉', '지민', '뷔', '정국']\n",
    "        },\n",
    "        '소녀시대': {\n",
    "            'leader': '태연',\n",
    "            'members': ['써니', '티파니', '효연', '유리', '수영', '윤아', '서현']\n",
    "        },\n",
    "    },\n",
    "    'solo': ['아이유', '백예린', '지코']\n",
    "}"
   ]
  },
  {
   "cell_type": "code",
   "execution_count": null,
   "metadata": {},
   "outputs": [],
   "source": [
    "a = development['category']\n",
    "print(len(a))"
   ]
  },
  {
   "cell_type": "code",
   "execution_count": null,
   "metadata": {},
   "outputs": [],
   "source": [
    "a = development['language']['python']['python standard library']\n",
    "for i in a:\n",
    "    if i == 'requests':\n",
    "        print('True')\n",
    "        break\n",
    "else:\n",
    "    print('False')"
   ]
  },
  {
   "cell_type": "code",
   "execution_count": null,
   "metadata": {},
   "outputs": [],
   "source": [
    "a = idols['group']['bts']['leader']\n",
    "print(a)"
   ]
  },
  {
   "cell_type": "code",
   "execution_count": null,
   "metadata": {},
   "outputs": [],
   "source": [
    "a = development['language']\n",
    "for lang in a.keys():\n",
    "    print(lang)"
   ]
  },
  {
   "cell_type": "code",
   "execution_count": 20,
   "metadata": {
    "scrolled": true
   },
   "outputs": [
    {
     "name": "stdout",
     "output_type": "stream",
     "text": [
      "진\n",
      "슈가\n",
      "제이홉\n",
      "지민\n",
      "뷔\n",
      "정국\n",
      "써니\n",
      "티파니\n",
      "효연\n",
      "유리\n",
      "수영\n",
      "윤아\n",
      "서현\n"
     ]
    }
   ],
   "source": [
    "a = idols['group']\n",
    "for mem in a.values():\n",
    "    for member in mem['members']:\n",
    "        print(member)\n",
    "#    if 'members' in mem:\n",
    "#        print(mem.values())\n",
    "#    for m in i.values():\n",
    "#        print(m)"
   ]
  },
  {
   "cell_type": "code",
   "execution_count": 23,
   "metadata": {},
   "outputs": [
    {
     "ename": "SyntaxError",
     "evalue": "unexpected EOF while parsing (<ipython-input-23-da3b8ff31e8e>, line 3)",
     "output_type": "error",
     "traceback": [
      "\u001b[1;36m  File \u001b[1;32m\"<ipython-input-23-da3b8ff31e8e>\"\u001b[1;36m, line \u001b[1;32m3\u001b[0m\n\u001b[1;33m    print(\u001b[0m\n\u001b[1;37m          ^\u001b[0m\n\u001b[1;31mSyntaxError\u001b[0m\u001b[1;31m:\u001b[0m unexpected EOF while parsing\n"
     ]
    }
   ],
   "source": [
    "dis = development['language']['python']['frameworks']\n",
    "for i in dis.items():\n",
    "    print("
   ]
  },
  {
   "cell_type": "markdown",
   "metadata": {},
   "source": [
    "# 정리\n",
    "#### random pick 명령어\n",
    "random.choice(list_name)\n",
    "#### 작은 숫자부터 정렬\n",
    "list_name.sort()\n",
    "\n"
   ]
  },
  {
   "cell_type": "code",
   "execution_count": null,
   "metadata": {},
   "outputs": [],
   "source": []
  }
 ],
 "metadata": {
  "kernelspec": {
   "display_name": "Python 3",
   "language": "python",
   "name": "python3"
  },
  "language_info": {
   "codemirror_mode": {
    "name": "ipython",
    "version": 3
   },
   "file_extension": ".py",
   "mimetype": "text/x-python",
   "name": "python",
   "nbconvert_exporter": "python",
   "pygments_lexer": "ipython3",
   "version": "3.7.3"
  }
 },
 "nbformat": 4,
 "nbformat_minor": 4
}
